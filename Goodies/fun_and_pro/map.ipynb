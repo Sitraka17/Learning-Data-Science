{
 "cells": [
  {
   "cell_type": "code",
   "execution_count": 1,
   "metadata": {},
   "outputs": [],
   "source": [
    "import geopandas as gpd\n",
    "import matplotlib.pyplot as plt"
   ]
  },
  {
   "cell_type": "code",
   "execution_count": null,
   "metadata": {},
   "outputs": [],
   "source": [
    "# Import all roads NL\n",
    "map_df = gpd.read_file('roads.shp')\n",
    "# Show data format\n",
    "map_df.head()\n",
    "\n",
    "# Set image properties\n",
    "fig, ax = plt.subplots(1, figsize=(10,14))\n",
    "map_df.plot(cmap='Wistia', ax=ax)\n",
    "ax.axis('off')\n",
    "\n",
    "# Set coordinates to match Utrecht, change for your own city\n",
    "ax.set_xlim(5.1050, 5.1400)\n",
    "ax.set_ylim(52.0620, 52.1115)\n",
    "ax.set_aspect('equal')\n",
    "\n",
    "# Plot the street map of Utrecht\n",
    "plt.show()"
   ]
  }
 ],
 "metadata": {
  "kernelspec": {
   "display_name": "Python 3",
   "language": "python",
   "name": "python3"
  },
  "language_info": {
   "codemirror_mode": {
    "name": "ipython",
    "version": 3
   },
   "file_extension": ".py",
   "mimetype": "text/x-python",
   "name": "python",
   "nbconvert_exporter": "python",
   "pygments_lexer": "ipython3",
   "version": "3.10.10"
  },
  "orig_nbformat": 4
 },
 "nbformat": 4,
 "nbformat_minor": 2
}
