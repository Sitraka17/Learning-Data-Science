{
  "nbformat": 4,
  "nbformat_minor": 0,
  "metadata": {
    "colab": {
      "name": "Webscrapping with BS #2.ipynb",
      "provenance": [],
      "authorship_tag": "ABX9TyPhVxQOGjCLzeC8tWClcVBN",
      "include_colab_link": true
    },
    "kernelspec": {
      "name": "python3",
      "display_name": "Python 3"
    },
    "language_info": {
      "name": "python"
    }
  },
  "cells": [
    {
      "cell_type": "markdown",
      "metadata": {
        "id": "view-in-github",
        "colab_type": "text"
      },
      "source": [
        "<a href=\"https://colab.research.google.com/github/Sitraka17/Learning-Data-Science/blob/main/Webscrapping_with_BS_2.ipynb\" target=\"_parent\"><img src=\"https://colab.research.google.com/assets/colab-badge.svg\" alt=\"Open In Colab\"/></a>"
      ]
    },
    {
      "cell_type": "code",
      "metadata": {
        "colab": {
          "base_uri": "https://localhost:8080/",
          "height": 1000
        },
        "id": "ZONZ5os-0Xuh",
        "outputId": "eee2151f-ae29-485d-e51e-f4b7e11e87e3"
      },
      "source": [
        "#import libraries\n",
        "from bs4 import BeautifulSoup\n",
        "import requests\n",
        "import pandas as pd\n",
        "import numpy as np\n",
        "\n",
        "from time import sleep\n",
        "from random import randint\n",
        "\n",
        "#Range of pages #There are total 792 pages to scrape from the URL.\n",
        "pages = [str(i) for i in range(1,792)]\n",
        "\n",
        "# Scrape multiple pages\n",
        "rows=[]\n",
        "\n",
        "for page in pages:\n",
        "    print(page)\n",
        "    url = 'https://toppub.xyz/publications?page='+ str(page)\n",
        "    page = requests.get(url)\n",
        "    soup = BeautifulSoup(page.content, 'html.parser')\n",
        "    p = soup.select('p')\n",
        "    print(len(p))\n",
        "    table = soup.find('table', class_='table')\n",
        "    for row in table.find_all('tr'):\n",
        "        columns = row.find_all('td') # the first row is returning <th> tags, but since you queried <td> tags, it's returning empty list.\n",
        "        if len(columns)>0: #In order to skip first row or in general, empty rows, you need to put an if check.\n",
        "        #Use the indices properly to get different values.\n",
        "            Name = columns[1].get_text()\n",
        "            Description =columns[2].get_text()\n",
        "            Followers = columns[3].get_text()\n",
        "            rows.append([Name,Description,Followers])\n",
        "    sleep(randint(2,10))\n",
        "\n",
        "#print(page.status_code) # The response shouls be 200, to scrape it \n",
        "\n",
        "df=pd.DataFrame(rows,columns=['Name','Description','Followers'])\n",
        "\n",
        "print(df)\n",
        "\n",
        "df.to_csv('blog_medium.csv',header=True,sep=';')"
      ],
      "execution_count": 1,
      "outputs": [
        {
          "output_type": "stream",
          "text": [
            "1\n",
            "0\n",
            "2\n",
            "0\n",
            "3\n",
            "0\n",
            "4\n",
            "0\n",
            "5\n",
            "0\n",
            "6\n",
            "0\n",
            "7\n",
            "0\n",
            "8\n",
            "0\n",
            "9\n",
            "0\n",
            "10\n",
            "0\n",
            "11\n",
            "0\n",
            "12\n",
            "0\n",
            "13\n",
            "0\n",
            "14\n",
            "0\n",
            "15\n",
            "0\n",
            "16\n",
            "0\n",
            "17\n",
            "0\n",
            "18\n",
            "0\n",
            "19\n",
            "0\n",
            "20\n",
            "0\n",
            "21\n",
            "0\n",
            "22\n",
            "0\n",
            "23\n",
            "0\n",
            "24\n",
            "0\n",
            "25\n",
            "0\n",
            "26\n",
            "0\n",
            "27\n",
            "0\n",
            "28\n",
            "0\n",
            "29\n",
            "0\n",
            "30\n",
            "0\n",
            "31\n",
            "0\n"
          ],
          "name": "stdout"
        },
        {
          "output_type": "error",
          "ename": "KeyboardInterrupt",
          "evalue": "ignored",
          "traceback": [
            "\u001b[0;31m---------------------------------------------------------------------------\u001b[0m",
            "\u001b[0;31mKeyboardInterrupt\u001b[0m                         Traceback (most recent call last)",
            "\u001b[0;32m<ipython-input-1-17ff7d8e02e2>\u001b[0m in \u001b[0;36m<module>\u001b[0;34m()\u001b[0m\n\u001b[1;32m     30\u001b[0m             \u001b[0mFollowers\u001b[0m \u001b[0;34m=\u001b[0m \u001b[0mcolumns\u001b[0m\u001b[0;34m[\u001b[0m\u001b[0;36m3\u001b[0m\u001b[0;34m]\u001b[0m\u001b[0;34m.\u001b[0m\u001b[0mget_text\u001b[0m\u001b[0;34m(\u001b[0m\u001b[0;34m)\u001b[0m\u001b[0;34m\u001b[0m\u001b[0;34m\u001b[0m\u001b[0m\n\u001b[1;32m     31\u001b[0m             \u001b[0mrows\u001b[0m\u001b[0;34m.\u001b[0m\u001b[0mappend\u001b[0m\u001b[0;34m(\u001b[0m\u001b[0;34m[\u001b[0m\u001b[0mName\u001b[0m\u001b[0;34m,\u001b[0m\u001b[0mDescription\u001b[0m\u001b[0;34m,\u001b[0m\u001b[0mFollowers\u001b[0m\u001b[0;34m]\u001b[0m\u001b[0;34m)\u001b[0m\u001b[0;34m\u001b[0m\u001b[0;34m\u001b[0m\u001b[0m\n\u001b[0;32m---> 32\u001b[0;31m     \u001b[0msleep\u001b[0m\u001b[0;34m(\u001b[0m\u001b[0mrandint\u001b[0m\u001b[0;34m(\u001b[0m\u001b[0;36m2\u001b[0m\u001b[0;34m,\u001b[0m\u001b[0;36m10\u001b[0m\u001b[0;34m)\u001b[0m\u001b[0;34m)\u001b[0m\u001b[0;34m\u001b[0m\u001b[0;34m\u001b[0m\u001b[0m\n\u001b[0m\u001b[1;32m     33\u001b[0m \u001b[0;34m\u001b[0m\u001b[0m\n\u001b[1;32m     34\u001b[0m \u001b[0;31m#print(page.status_code) # The response shouls be 200, to scrape it\u001b[0m\u001b[0;34m\u001b[0m\u001b[0;34m\u001b[0m\u001b[0;34m\u001b[0m\u001b[0m\n",
            "\u001b[0;31mKeyboardInterrupt\u001b[0m: "
          ]
        }
      ]
    },
    {
      "cell_type": "code",
      "metadata": {
        "id": "YFkD091b0a6o"
      },
      "source": [
        "#disclaimer this was awesomely made by medium https://medium.com/swlh/build-your-own-dataset-with-beautiful-soup-583717e3dad7  !"
      ],
      "execution_count": null,
      "outputs": []
    }
  ]
}
