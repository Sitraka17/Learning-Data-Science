{
 "cells": [
  {
   "cell_type": "code",
   "execution_count": 1,
   "metadata": {},
   "outputs": [
    {
     "name": "stdout",
     "output_type": "stream",
     "text": [
      "Collecting pyshorteners\n",
      "  Downloading pyshorteners-1.0.1.tar.gz (10.0 kB)\n",
      "  Preparing metadata (setup.py): started\n",
      "  Preparing metadata (setup.py): finished with status 'done'\n",
      "Requirement already satisfied: requests in c:\\users\\sitra\\appdata\\local\\packages\\pythonsoftwarefoundation.python.3.10_qbz5n2kfra8p0\\localcache\\local-packages\\python310\\site-packages (from pyshorteners) (2.27.1)\n",
      "Requirement already satisfied: idna<4,>=2.5 in c:\\users\\sitra\\appdata\\local\\packages\\pythonsoftwarefoundation.python.3.10_qbz5n2kfra8p0\\localcache\\local-packages\\python310\\site-packages (from requests->pyshorteners) (3.4)\n",
      "Requirement already satisfied: charset-normalizer~=2.0.0 in c:\\users\\sitra\\appdata\\local\\packages\\pythonsoftwarefoundation.python.3.10_qbz5n2kfra8p0\\localcache\\local-packages\\python310\\site-packages (from requests->pyshorteners) (2.0.12)\n",
      "Requirement already satisfied: urllib3<1.27,>=1.21.1 in c:\\users\\sitra\\appdata\\local\\packages\\pythonsoftwarefoundation.python.3.10_qbz5n2kfra8p0\\localcache\\local-packages\\python310\\site-packages (from requests->pyshorteners) (1.26.12)\n",
      "Requirement already satisfied: certifi>=2017.4.17 in c:\\users\\sitra\\appdata\\local\\packages\\pythonsoftwarefoundation.python.3.10_qbz5n2kfra8p0\\localcache\\local-packages\\python310\\site-packages (from requests->pyshorteners) (2022.9.24)\n",
      "Building wheels for collected packages: pyshorteners\n",
      "  Building wheel for pyshorteners (setup.py): started\n",
      "  Building wheel for pyshorteners (setup.py): finished with status 'done'\n",
      "  Created wheel for pyshorteners: filename=pyshorteners-1.0.1-py3-none-any.whl size=17497 sha256=8b95acb46b982d8dff46314551c0f3e3e34ce6c19169df278dbb22390f45a9ac\n",
      "  Stored in directory: c:\\users\\sitra\\appdata\\local\\pip\\cache\\wheels\\30\\82\\b2\\341d77dbb23611d1e12a8711525ecb29067b9e5fef9ada33df\n",
      "Successfully built pyshorteners\n",
      "Installing collected packages: pyshorteners\n",
      "Successfully installed pyshorteners-1.0.1\n"
     ]
    },
    {
     "name": "stderr",
     "output_type": "stream",
     "text": [
      "\n",
      "[notice] A new release of pip available: 22.3.1 -> 23.0.1\n",
      "[notice] To update, run: C:\\Users\\sitra\\AppData\\Local\\Microsoft\\WindowsApps\\PythonSoftwareFoundation.Python.3.10_qbz5n2kfra8p0\\python.exe -m pip install --upgrade pip\n"
     ]
    }
   ],
   "source": [
    "!pip install pyshorteners"
   ]
  },
  {
   "cell_type": "code",
   "execution_count": 4,
   "metadata": {},
   "outputs": [
    {
     "name": "stdout",
     "output_type": "stream",
     "text": [
      "2\n"
     ]
    }
   ],
   "source": [
    "x= 1+1\n",
    "print(x)"
   ]
  },
  {
   "cell_type": "code",
   "execution_count": 3,
   "metadata": {},
   "outputs": [
    {
     "ename": "TypeError",
     "evalue": "Shortener.__init__() takes 1 positional argument but 2 were given",
     "output_type": "error",
     "traceback": [
      "\u001b[1;31m---------------------------------------------------------------------------\u001b[0m",
      "\u001b[1;31mTypeError\u001b[0m                                 Traceback (most recent call last)",
      "\u001b[1;32mc:\\Users\\sitra\\OneDrive\\Documents\\Data\\Learning-Data-Science\\Py101\\Goodies\\shorten_url.ipynb Cell 2\u001b[0m in \u001b[0;36m<cell line: 6>\u001b[1;34m()\u001b[0m\n\u001b[0;32m      <a href='vscode-notebook-cell:/c%3A/Users/sitra/OneDrive/Documents/Data/Learning-Data-Science/Py101/Goodies/shorten_url.ipynb#W0sZmlsZQ%3D%3D?line=3'>4</a>\u001b[0m \u001b[39m# Shorten long URL\u001b[39;00m\n\u001b[0;32m      <a href='vscode-notebook-cell:/c%3A/Users/sitra/OneDrive/Documents/Data/Learning-Data-Science/Py101/Goodies/shorten_url.ipynb#W0sZmlsZQ%3D%3D?line=4'>5</a>\u001b[0m long_url \u001b[39m=\u001b[39m \u001b[39minput\u001b[39m()\n\u001b[1;32m----> <a href='vscode-notebook-cell:/c%3A/Users/sitra/OneDrive/Documents/Data/Learning-Data-Science/Py101/Goodies/shorten_url.ipynb#W0sZmlsZQ%3D%3D?line=5'>6</a>\u001b[0m url_shortener \u001b[39m=\u001b[39m Shortener(\u001b[39m'\u001b[39;49m\u001b[39mBitly\u001b[39;49m\u001b[39m'\u001b[39;49m, bitly_token \u001b[39m=\u001b[39;49m ACCESS_TOKEN) \n\u001b[0;32m      <a href='vscode-notebook-cell:/c%3A/Users/sitra/OneDrive/Documents/Data/Learning-Data-Science/Py101/Goodies/shorten_url.ipynb#W0sZmlsZQ%3D%3D?line=6'>7</a>\u001b[0m \u001b[39mprint\u001b[39m (\u001b[39m\"\u001b[39m\u001b[39mShort URL is \u001b[39m\u001b[39m{}\u001b[39;00m\u001b[39m\"\u001b[39m\u001b[39m.\u001b[39mformat(url_shortener\u001b[39m.\u001b[39mshort(long_url)))\n\u001b[0;32m      <a href='vscode-notebook-cell:/c%3A/Users/sitra/OneDrive/Documents/Data/Learning-Data-Science/Py101/Goodies/shorten_url.ipynb#W0sZmlsZQ%3D%3D?line=8'>9</a>\u001b[0m \u001b[39m#Expand short URL\u001b[39;00m\n",
      "\u001b[1;31mTypeError\u001b[0m: Shortener.__init__() takes 1 positional argument but 2 were given"
     ]
    }
   ],
   "source": [
    "from pyshorteners import Shortener \n",
    "ACCESS_TOKEN = 'YOUR TOKEN'\n",
    "\n",
    "# Shorten long URL\n",
    "long_url = input()\n",
    "url_shortener = Shortener('Bitly', bitly_token = ACCESS_TOKEN) \n",
    "print (\"Short URL is {}\".format(url_shortener.short(long_url)))\n",
    "\n",
    "#Expand short URL\n",
    "short_url = input()\n",
    "url_expander = Shortener('Bitly', bitly_token = ACCESS_TOKEN)\n",
    "print (\"Long URL is {}\".format(url_expander.expand(short_url))) "
   ]
  }
 ],
 "metadata": {
  "kernelspec": {
   "display_name": "Python 3",
   "language": "python",
   "name": "python3"
  },
  "language_info": {
   "codemirror_mode": {
    "name": "ipython",
    "version": 3
   },
   "file_extension": ".py",
   "mimetype": "text/x-python",
   "name": "python",
   "nbconvert_exporter": "python",
   "pygments_lexer": "ipython3",
   "version": "3.10.10"
  },
  "orig_nbformat": 4
 },
 "nbformat": 4,
 "nbformat_minor": 2
}
