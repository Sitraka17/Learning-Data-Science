{
 "cells": [
  {
   "attachments": {},
   "cell_type": "markdown",
   "metadata": {},
   "source": [
    "In game theory, the Nash equilibrium, named after the mathematician John Nash, is the most common way to define the solution of a non-cooperative game involving two or more players. In a Nash equilibrium, each player is assumed to know the equilibrium strategies of the other players, and no one has anything to gain by changing only one's own strategy.[1] The principle of Nash equilibrium dates back to the time of Cournot, who in 1838 applied it to competing firms choosing outputs.[2]"
   ]
  },
  {
   "cell_type": "code",
   "execution_count": 1,
   "metadata": {},
   "outputs": [
    {
     "name": "stdout",
     "output_type": "stream",
     "text": [
      "The Nash equilibrium(s) is/are:\n",
      "('Defect', 'Cooperate')\n"
     ]
    }
   ],
   "source": [
    "# Define the payoff matrix\n",
    "payoff = [[(3, 3), (0, 5)],\n",
    "          [(5, 0), (1, 1)]]\n",
    "\n",
    "# Define the strategy sets\n",
    "strategies = [\"Cooperate\", \"Defect\"]\n",
    "\n",
    "# Define a function to calculate the payoff for a given strategy pair\n",
    "def calculate_payoff(player1, player2):\n",
    "    return payoff[player1][player2]\n",
    "\n",
    "# Find the Nash equilibrium by iterating over all possible strategy pairs\n",
    "nash_equilibria = []\n",
    "for p1, strategy1 in enumerate(strategies):\n",
    "    for p2, strategy2 in enumerate(strategies):\n",
    "        if (calculate_payoff(p1, p2) >= calculate_payoff(p1, (p2 + 1) % 2) and\n",
    "            calculate_payoff(p1, p2) >= calculate_payoff((p1 + 1) % 2, p2)):\n",
    "            nash_equilibria.append((strategy1, strategy2))\n",
    "\n",
    "# Print the results\n",
    "print(\"The Nash equilibrium(s) is/are:\")\n",
    "for equilibrium in nash_equilibria:\n",
    "    print(equilibrium)\n"
   ]
  }
 ],
 "metadata": {
  "kernelspec": {
   "display_name": "Python 3",
   "language": "python",
   "name": "python3"
  },
  "language_info": {
   "codemirror_mode": {
    "name": "ipython",
    "version": 3
   },
   "file_extension": ".py",
   "mimetype": "text/x-python",
   "name": "python",
   "nbconvert_exporter": "python",
   "pygments_lexer": "ipython3",
   "version": "3.10.10"
  },
  "orig_nbformat": 4,
  "vscode": {
   "interpreter": {
    "hash": "eb17fa29bd96fd4ce5a6252c0a8f443f32b313fbe6a3474c9cf7084660dab2e5"
   }
  }
 },
 "nbformat": 4,
 "nbformat_minor": 2
}
